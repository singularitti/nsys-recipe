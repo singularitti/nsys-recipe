{
 "cells": [
  {
   "cell_type": "markdown",
   "metadata": {},
   "source": [
    "# CUDA GPU Memory Operation Summary (by Time)"
   ]
  },
  {
   "cell_type": "markdown",
   "metadata": {},
   "source": [
    "This notebook provides a summary of GPU memory operations and their execution times."
   ]
  },
  {
   "cell_type": "code",
   "execution_count": null,
   "metadata": {},
   "outputs": [],
   "source": [
    "import pandas as pd\n",
    "import plotly.offline as pyo\n",
    "\n",
    "from IPython.display import display, HTML, Markdown\n",
    "\n",
    "import nsys_display\n",
    "\n",
    "display(HTML(\"<style>.container { width:95% !important; }</style>\"))\n",
    "pd.set_option('display.max_colwidth', None)\n",
    "pd.set_option('display.max_rows', None)\n",
    "pyo.init_notebook_mode()"
   ]
  },
  {
   "cell_type": "markdown",
   "metadata": {},
   "source": [
    "## Overall statistics"
   ]
  },
  {
   "attachments": {},
   "cell_type": "markdown",
   "metadata": {},
   "source": [
    "The table shows the statistics across all ranks. Note that:\n",
    "* All time values are in nanoseconds.\n",
    "* Q1 is the 25th percentile of the data set. Approximated by the min of Q1 for each rank.\n",
    "* Median is the 50th percentile of the data set. Approximated by the median of the medians for each rank.\n",
    "* Q3 is the 75th percentile of the data set. Approximated by the max of Q3 for each rank."
   ]
  },
  {
   "cell_type": "code",
   "execution_count": null,
   "metadata": {},
   "outputs": [],
   "source": [
    "ranks_df = pd.read_parquet('all_stats.parquet')\n",
    "display(ranks_df)"
   ]
  },
  {
   "cell_type": "markdown",
   "metadata": {},
   "source": [
    "The diagram shows statistical box plots and line graphs for each operation across all ranks.\n",
    "\n",
    "To toggle the line traces on and off on the graph, click on their corresponding legend entries. When working with large data sets, consider using the .head() function to limit the number of displayed elements or zoom in on the diagram for better visibility."
   ]
  },
  {
   "cell_type": "code",
   "execution_count": null,
   "metadata": {},
   "outputs": [],
   "source": [
    "nsys_display.display_box(ranks_df, xaxis_title='Name', yaxis_title='Value (ns)')\n",
    "nsys_display.display_stats_scatter(ranks_df, xaxis_title='Name', yaxis_title='Value (ns)')"
   ]
  },
  {
   "cell_type": "markdown",
   "metadata": {},
   "source": [
    "## Per-rank statistics"
   ]
  },
  {
   "attachments": {},
   "cell_type": "markdown",
   "metadata": {},
   "source": [
    "The table and graphs show statistics of the operation selected from the drop-down menu, for each rank. Note that:\n",
    "* All time values are in nanoseconds.\n",
    "* 'Q1', 'Med', and 'Q3' are the 25th, 50th, and 75th percentiles of the data set, respectively.\n",
    "* The 'Time' column is calculated using a summation of the \"Total Time\" column. It represents that function's percent of the execution time of the functions listed and not a percentage of the application wall or CPU execution time.\n",
    "\n",
    "To toggle the line traces on and off on the graph, click on their corresponding legend entries. When working with large data sets, consider using the .head() function to limit the number of displayed elements or zoom in on the diagram for better visibility."
   ]
  },
  {
   "cell_type": "code",
   "execution_count": null,
   "metadata": {},
   "outputs": [],
   "source": [
    "per_rank_df = pd.read_parquet('rank_stats.parquet')\n",
    "per_rank_gpu_df = pd.read_parquet('rank_stats_by_device.parquet')\n",
    "\n",
    "nsys_display.display_stats_per_operation_device(per_rank_df, per_rank_gpu_df, xaxis_title='Rank', yaxis_title='Value (ns)')"
   ]
  },
  {
   "cell_type": "markdown",
   "metadata": {},
   "source": [
    "## Files"
   ]
  },
  {
   "cell_type": "markdown",
   "metadata": {},
   "source": [
    "The table associates each rank number with the original filename. Ranks are assigned assuming that the file names include the rank with sufficient zero padding for proper sorting. Otherwise, the actual rank may differ from the assigned ID."
   ]
  },
  {
   "cell_type": "code",
   "execution_count": null,
   "metadata": {},
   "outputs": [],
   "source": [
    "files_df = pd.read_parquet(\"files.parquet\")\n",
    "display(files_df)"
   ]
  }
 ],
 "metadata": {
  "kernelspec": {
   "display_name": "Python 3",
   "language": "python",
   "name": "python3"
  },
  "language_info": {
   "name": "python",
   "version": "3.10.5"
  },
  "orig_nbformat": 4,
  "vscode": {
   "interpreter": {
    "hash": "7e1998ff7f8aa20ada591c520b972326324e5ea05489af9e422744c7c09f6dad"
   }
  }
 },
 "nbformat": 4,
 "nbformat_minor": 2
}
