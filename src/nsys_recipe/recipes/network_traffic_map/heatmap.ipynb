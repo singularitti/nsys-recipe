{
 "cells": [
  {
   "cell_type": "markdown",
   "metadata": {},
   "source": [
    "# Network Traffic Heatmap"
   ]
  },
  {
   "cell_type": "code",
   "execution_count": null,
   "metadata": {},
   "outputs": [],
   "source": [
    "import pandas as pd\n",
    "import plotly.express as px\n",
    "import plotly.graph_objects as go\n",
    "import plotly.offline as pyo\n",
    "\n",
    "from IPython.display import display, HTML, Markdown\n",
    "from plotly.subplots import make_subplots\n",
    "\n",
    "import nsys_display\n",
    "\n",
    "display(HTML(\"<style>.container { width:95% !important; }</style>\"))\n",
    "pd.set_option('display.max_colwidth', None)\n",
    "pd.set_option('display.max_rows', None)\n",
    "pyo.init_notebook_mode()"
   ]
  },
  {
   "cell_type": "code",
   "execution_count": null,
   "metadata": {},
   "outputs": [],
   "source": [
    "df = pd.read_parquet('analysis.parquet')\n",
    "# Create unique name.\n",
    "df['Name'] = df['Rank'].astype(str) + '/' + df['Device name'].astype(str) + '/' + df['GUID']\n",
    "# Convert ns to s.\n",
    "df['Duration'] = df['Duration'] * 1e-9\n",
    "\n",
    "types = []\n",
    "\n",
    "if 'IB Bytes Recv' in df or 'Eth Bytes Recv' in df:\n",
    "    received_bytes = df['IB Bytes Recv'].fillna(0) if 'IB Bytes Recv' in df else 0\n",
    "    received_bytes += df['Eth Bytes Recv'].fillna(0) if 'Eth Bytes Recv' in df else 0\n",
    "    # Convert bytes to MBytes and rate metrics from \"/ms\" to \"/s\"\n",
    "    df['MB Recv'] = (received_bytes * 1000) / (1024 * 1024)\n",
    "    types.append('MB Recv')\n",
    "\n",
    "if 'IB Bytes Sent' in df or 'Eth Bytes Sent' in df:\n",
    "    sent_bytes = df['IB Bytes Sent'].fillna(0) if 'IB Bytes Sent' in df else 0\n",
    "    sent_bytes += df['Eth Bytes Sent'].fillna(0) if 'Eth Bytes Sent' in df else 0\n",
    "    # Convert bytes to MBytes and rate metrics from \"/ms\" to \"/s\"\n",
    "    df['MB Sent'] = (sent_bytes * 1000) / (1024 * 1024)\n",
    "    types.append('MB Sent')\n",
    "\n",
    "if 'Congestion' in df:\n",
    "    df['Congestion'] = df['Congestion'].fillna(0) * 1000\n",
    "    types.append('Congestion')"
   ]
  },
  {
   "cell_type": "markdown",
   "metadata": {},
   "source": [
    "This line graph displays the summary of data received and sent rates by all the profiled network devices:\n",
    "* x axis represents the rank duration, scaling from 0 to the maximum duration across all ranks.\n",
    "* y axis represents the mean value of data received and sent across all ranks.\n",
    "    - The data transmitted is Ethernet and InfiniBand traffic accumulated."
   ]
  },
  {
   "cell_type": "code",
   "execution_count": null,
   "metadata": {},
   "outputs": [],
   "source": [
    "nsys_display.display_summary_graph(\n",
    "    df,\n",
    "    ['MB Recv', 'MB Sent'],\n",
    "    xaxis_title=\"Duration (s)\",\n",
    "    yaxis_title=\"Data rate (MB/s)\",\n",
    "    title=\"Data Transmission Summary (bins=REPLACE_BIN)\"\n",
    ")"
   ]
  },
  {
   "cell_type": "markdown",
   "metadata": {},
   "source": [
    "These heatmaps display Network devices metrics values across all NIC and IB Switch interfaces on all ranks:\n",
    "* x axis represents the rank duration, scaling from 0 to the maximum duration across all ranks.\n",
    "* y axis represents the set of Rank/Device name/GUID for which metrics were collected.\n",
    "\n",
    "The heatmaps present:\n",
    "* MB Recv present the rates of bytes received in MiB/s.\n",
    "* MB Sent present the rates of bytes sent in MiB/s.\n",
    "* Congestion presents the congestion reported by 'Send Waits' packets in ticks/s."
   ]
  },
  {
   "cell_type": "code",
   "execution_count": null,
   "metadata": {},
   "outputs": [],
   "source": [
    "for type in types:\n",
    "    fig = make_subplots(1, 1, subplot_titles=[type], vertical_spacing=0.1)\n",
    "    fig.add_trace(\n",
    "        go.Heatmap(\n",
    "            x=df['Duration'],\n",
    "            y=df['Name'],\n",
    "            z=df[type],\n",
    "            showscale=False,\n",
    "            zmax=df[type].max(),\n",
    "            zauto=False,\n",
    "            hovertemplate=('<br>'.join([\n",
    "                'Duration (s): %{{x}}',\n",
    "                'Name: %{{y}}',\n",
    "                '{} (Value): %{{z}}'])+'<extra></extra>').format(type)),\n",
    "        1, 1)\n",
    "    unique_name_count = df['Name'].nunique()\n",
    "    fig.update_layout(\n",
    "        height=nsys_display._get_heatmap_height(unique_name_count),\n",
    "        title='Network Device Metric (bins=REPLACE_BIN)'\n",
    "    )\n",
    "    fig.update_xaxes(title_text='Duration (s)')\n",
    "    fig.update_yaxes(title_text='Rank/Device name/GUID', categoryorder=\"category descending\", nticks=df[\"Name\"].nunique())\n",
    "    fig.update_traces({'colorbar': {'title_text': 'Value'}}, showscale=True, row=0)\n",
    "\n",
    "    fig.show()"
   ]
  },
  {
   "cell_type": "markdown",
   "metadata": {},
   "source": [
    "## Files"
   ]
  },
  {
   "cell_type": "markdown",
   "metadata": {},
   "source": [
    "The table associates each rank number with the original filename. Ranks are assigned assuming that the file names include the rank with sufficient zero padding for proper sorting. Otherwise, the actual rank may differ from the assigned ID."
   ]
  },
  {
   "cell_type": "code",
   "execution_count": null,
   "metadata": {},
   "outputs": [],
   "source": [
    "files_df = pd.read_parquet(\"files.parquet\")\n",
    "display(files_df)"
   ]
  }
 ],
 "metadata": {
  "kernelspec": {
   "display_name": "Python 3 (ipykernel)",
   "language": "python",
   "name": "python3"
  },
  "language_info": {
   "codemirror_mode": {
    "name": "ipython",
    "version": 3
   },
   "file_extension": ".py",
   "mimetype": "text/x-python",
   "name": "python",
   "nbconvert_exporter": "python",
   "pygments_lexer": "ipython3",
   "version": "3.11.4"
  }
 },
 "nbformat": 4,
 "nbformat_minor": 4
}
