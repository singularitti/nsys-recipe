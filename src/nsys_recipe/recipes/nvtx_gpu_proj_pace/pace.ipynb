{
 "cells": [
  {
   "attachments": {},
   "cell_type": "markdown",
   "id": "d47405aa-4e8c-4e8d-9e9f-5771f5eb0cd1",
   "metadata": {},
   "source": [
    "# NVTX Iteration Analysis\n",
    "Investigate the progress and consistency of an iteration based application.  The target range, chosen by name, is assumed to be a delineator between iterations.  This report graphs when the application reaches this range's(start), how long between ranges (delta), and how long the range took, encase it was behaving as a barrier, such as collective communication all-reduce.  You will see how long each rank takes in comparison to eachother.  The ranks that are taking longer to reach the end of the iteration(delta or range start) typically are preventing all the ranks from moving forward to the next iteration and so their performance should be investigated relative to the median or min.   Identify the ranks and iterations here.  Then investigate their cause by opening the 2-3 ranks (outlier plus median and/or min) in Nsight Systems as a multi-report view.\n",
    "\n",
    "All times are in nanoseconds."
   ]
  },
  {
   "cell_type": "markdown",
   "id": "5cbed268-3ac1-4b76-8be9-0c2b060f1c3a",
   "metadata": {
    "tags": []
   },
   "source": [
    "## Load Data"
   ]
  },
  {
   "cell_type": "code",
   "execution_count": null,
   "id": "0425e7d7",
   "metadata": {
    "jupyter": {
     "source_hidden": true
    },
    "tags": []
   },
   "outputs": [],
   "source": [
    "#General setup properties\n",
    "import IPython.display\n",
    "from IPython.display import display, HTML, Markdown\n",
    "display(HTML(\"<style>.container { width:95% !important; }</style>\"))\n",
    "\n",
    "import pickle\n",
    "import importlib\n",
    "import os\n",
    "import glob\n",
    "import math\n",
    "import re\n",
    "import time\n",
    "from collections import deque\n",
    "import pandas as pd\n",
    "import numpy as np\n",
    "import sqlite3\n",
    "#!pip3 install plotly\n",
    "\n",
    "pd.options.plotting.backend = \"plotly\"\n",
    "pd.set_option('display.max_rows', 100)\n",
    "pd.set_option('display.width', 250)\n",
    "\n",
    "import nsys_pres"
   ]
  },
  {
   "cell_type": "code",
   "execution_count": null,
   "id": "8cfeaf53-9d41-4a8c-8b2f-82c89a5c2603",
   "metadata": {},
   "outputs": [],
   "source": [
    "#load the data\n",
    "stats_df = pd.read_parquet(\"stats.parquet\")\n",
    "files_df = pd.read_parquet(\"files.parquet\")\n",
    "\n",
    "pace_map_by_column=dict()\n",
    "pace_map_by_column['start'] = pd.read_parquet(\"pace_start.parquet\").rename_axis(\"Iterations\",axis='index').rename_axis(\"Ranks\",axis='columns')\n",
    "pace_map_by_column['end'] = pd.read_parquet(\"pace_end.parquet\").rename_axis(\"Iterations\",axis='index').rename_axis(\"Ranks\",axis='columns')\n",
    "pace_map_by_column['duration'] = pd.read_parquet(\"pace_duration.parquet\").rename_axis(\"Iterations\",axis='index').rename_axis(\"Ranks\",axis='columns')\n",
    "pace_map_by_column['duration_accum'] = pd.read_parquet(\"pace_duration_accum.parquet\").rename_axis(\"Iterations\",axis='index').rename_axis(\"Ranks\",axis='columns')\n",
    "pace_map_by_column['delta'] = pd.read_parquet(\"pace_delta.parquet\").rename_axis(\"Iterations\",axis='index').rename_axis(\"Ranks\",axis='columns')\n",
    "pace_map_by_column['delta_accum'] = pd.read_parquet(\"pace_delta_accum.parquet\").rename_axis(\"Iterations\",axis='index').rename_axis(\"Ranks\",axis='columns')\n",
    "pace_map_by_column['delta_stats'] = pd.read_parquet(\"pace_delta_stats.parquet\").rename_axis(\"Iterations\",axis='index').rename_axis(\"Ranks\",axis='columns')\n"
   ]
  },
  {
   "attachments": {},
   "cell_type": "markdown",
   "id": "f330296f-74c5-4378-b982-d0fb95236972",
   "metadata": {},
   "source": [
    "## Statistics for Target Operation\n",
    "Overall statistics for the target range across all ranks.\n",
    "* Q1(approx) is the 25th percentile of the dataset. Approximated by the min of Q1 for each rank.\n",
    "* Median(approx) is the 50th percentile of the dataset.   Approximated by the median of the medians for each rank.\n",
    "* Q3(approx) is the 75th percentile of the dataset.   Approximated by the max of Q3 for each rank."
   ]
  },
  {
   "cell_type": "code",
   "execution_count": null,
   "id": "ba5bde92-c6bd-4493-a829-4ae84d797bb3",
   "metadata": {
    "tags": []
   },
   "outputs": [],
   "source": [
    "display(stats_df.T)"
   ]
  },
  {
   "attachments": {},
   "cell_type": "markdown",
   "id": "2a196ce7-937a-4766-b6b4-e616f7c0dc7b",
   "metadata": {},
   "source": [
    "## Start of Target Operation\n",
    "Wall-clock time of when each rank reached this operation.\n",
    "* The progress graph represents each rank as a line, the x-axis prepresents linear progress. \n",
    "* The consistency graph transposes the data, showing a line for each iteration. Visually moving upward from the x-axis, this is when the rank reached this iteration."
   ]
  },
  {
   "cell_type": "code",
   "execution_count": null,
   "id": "062dbf46-4432-4084-bdc3-0ac93086cc52",
   "metadata": {
    "tags": []
   },
   "outputs": [],
   "source": [
    "figs=list()\n",
    "nsys_pres.display_pace_graph(figs, pace_map_by_column, 'start')"
   ]
  },
  {
   "attachments": {},
   "cell_type": "markdown",
   "id": "5e264faa-63a8-4a14-beda-f51e81198623",
   "metadata": {
    "tags": []
   },
   "source": [
    "## Delta Between Targets\n",
    "The time measured between the target range.\n",
    "* A boxplot to understand the distribution of the rank timing per iteration \n",
    "* The progress graph represents each rank as a line, the x-axis prepresents linear progress. \n",
    "* The consistency graph transposes the data, showing a line for each iteration. Visually moving upward from the x-axis, this is how long each iteration tool.  Search here for inconsistencies between ranks to investigate.  If the lines are consistent horizontally then each rank completed their work at the same time."
   ]
  },
  {
   "cell_type": "code",
   "execution_count": null,
   "id": "3e075b96-106c-4ea1-bce6-9dc9e2947626",
   "metadata": {
    "tags": []
   },
   "outputs": [],
   "source": [
    "\n",
    "delta_stats_df = pace_map_by_column['delta_stats']\n",
    "\n",
    "figs = nsys_pres.display_boxplots_df(None, delta_stats_df.loc[1:],\n",
    "                          title=\"Delta boxplot per iteration (across ranks)\",\n",
    "                          xaxis_title=\"Iteration\")"
   ]
  },
  {
   "cell_type": "code",
   "execution_count": null,
   "id": "3dc34bc3-5cc6-4c24-af9d-1d0f3e2f974d",
   "metadata": {
    "tags": []
   },
   "outputs": [],
   "source": [
    "figs=list()\n",
    "nsys_pres.display_pace_graph(figs, pace_map_by_column, 'delta')"
   ]
  },
  {
   "attachments": {},
   "cell_type": "markdown",
   "id": "4f09ae70-fccf-4d54-a604-15fcd4baef4f",
   "metadata": {},
   "source": [
    "## Variance in Delta between Targets\n",
    "Similar \"Delta between Barriers\", the median time per-iteration is subtracted from the rank's value, typically making the ouliers more obvious if they were subtle above."
   ]
  },
  {
   "cell_type": "code",
   "execution_count": null,
   "id": "6bfd6537-c6c9-4c84-82bb-75f522815730",
   "metadata": {
    "tags": []
   },
   "outputs": [],
   "source": [
    "figs=list()\n",
    "nsys_pres.display_pace_graph_delta_minus_median(figs, pace_map_by_column)"
   ]
  },
  {
   "attachments": {},
   "cell_type": "markdown",
   "id": "ecd47c77-1166-4257-aaeb-ed0868a2b7e5",
   "metadata": {
    "tags": []
   },
   "source": [
    "## Delta Accumulated\n",
    "This is the accomulated time between the target ranges.  This is more relevant if the target range is a barrier, such as an all-reduce, which must wait for all participants.  Assuming that the time in the target range is consistent, this may look similar to the graph of starts.  If the target range is a barrier, it will provide a more accurate picture of how fast the rank is processing it's data overall.   This can assist in identifying issues such inconsistent workload distribution, consistently giving a lighter load to a particular rank, or a hardware difference (distance from storage, NUMA setup, GPU or NIC bindings, throttling, etc), or even other OS and software services interfering."
   ]
  },
  {
   "cell_type": "code",
   "execution_count": null,
   "id": "e5c4dddc-b861-4d1f-9e3c-ef0c0c99e3be",
   "metadata": {
    "tags": []
   },
   "outputs": [],
   "source": [
    "figs=list()\n",
    "nsys_pres.display_pace_graph(figs, pace_map_by_column, 'delta_accum')"
   ]
  },
  {
   "attachments": {},
   "cell_type": "markdown",
   "id": "d197995f-fdc3-4f16-8ec9-a76d5c471cdb",
   "metadata": {},
   "source": [
    "## Duration Accumuled\n",
    "Similar to delta accumulation, how long are we spending in the target range so far in the application's progress through these iterations?  If this is a barrier-like operation it is how long you are blocking."
   ]
  },
  {
   "cell_type": "code",
   "execution_count": null,
   "id": "b45347d0-5461-4d87-b311-f645c2571c0b",
   "metadata": {
    "tags": []
   },
   "outputs": [],
   "source": [
    "figs=list()\n",
    "nsys_pres.display_pace_graph(figs, pace_map_by_column, 'duration_accum')"
   ]
  },
  {
   "attachments": {},
   "cell_type": "markdown",
   "id": "83b24ace-41f2-414a-ab56-d3e2c45590c0",
   "metadata": {},
   "source": [
    "## Duration\n",
    "The duration is not accumulated here, so outliers are more likely to stand out."
   ]
  },
  {
   "cell_type": "code",
   "execution_count": null,
   "id": "4a93e3f3-bddc-47c1-a621-2546fd36e8ef",
   "metadata": {
    "tags": []
   },
   "outputs": [],
   "source": [
    "figs=list()\n",
    "nsys_pres.display_pace_graph(figs, pace_map_by_column, 'duration')"
   ]
  },
  {
   "attachments": {},
   "cell_type": "markdown",
   "id": "06a8af17-8a7e-4d48-9bd8-0fe1bdd979a5",
   "metadata": {
    "tags": []
   },
   "source": [
    "## Files\n",
    "Ranks are assigned assuming that the file names include the rank and sort well.  If they are not sufficiently padded with zeros, the real rank may differ from the assigned ID.  This table allows you to identify the filename without the charts above having potentially very long label in the legend or x-axis."
   ]
  },
  {
   "cell_type": "code",
   "execution_count": null,
   "id": "46978d5e-7fab-4b52-bb55-713d50c8eb40",
   "metadata": {
    "tags": []
   },
   "outputs": [],
   "source": [
    "display(files_df)"
   ]
  }
 ],
 "metadata": {
  "kernelspec": {
   "display_name": "Python 3",
   "language": "python",
   "name": "python3"
  },
  "language_info": {
   "codemirror_mode": {
    "name": "ipython",
    "version": 3
   },
   "file_extension": ".py",
   "mimetype": "text/x-python",
   "name": "python",
   "nbconvert_exporter": "python",
   "pygments_lexer": "ipython3",
   "version": "3.8.10 (default, Nov 14 2022, 12:59:47) \n[GCC 9.4.0]"
  },
  "vscode": {
   "interpreter": {
    "hash": "916dbcbb3f70747c44a77c7bcd40155683ae19c65e1c03b4aa3499c5328201f1"
   }
  }
 },
 "nbformat": 4,
 "nbformat_minor": 5
}
