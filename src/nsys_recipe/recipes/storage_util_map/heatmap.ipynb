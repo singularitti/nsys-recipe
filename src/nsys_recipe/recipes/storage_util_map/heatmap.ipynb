{
 "cells": [
  {
   "cell_type": "markdown",
   "metadata": {},
   "source": [
    "# Storage Utilization Heatmap"
   ]
  },
  {
   "cell_type": "code",
   "execution_count": null,
   "metadata": {},
   "outputs": [],
   "source": [
    "import nsys_display\n",
    "import pandas as pd\n",
    "import plotly.express as px\n",
    "import plotly.graph_objects as go\n",
    "import plotly.offline as pyo\n",
    "\n",
    "from IPython.display import HTML, Markdown, display\n",
    "from plotly.subplots import make_subplots\n",
    "\n",
    "display(HTML('<style>.container { width:95% !important; }</style>'))\n",
    "pd.set_option(\"display.max_colwidth\", None)\n",
    "pd.set_option(\"display.max_rows\", None)\n",
    "pyo.init_notebook_mode()"
   ]
  },
  {
   "cell_type": "markdown",
   "metadata": {},
   "source": [
    "This line graph displays the summary of all operations on NFS, Lustre, Local and NVMe-oF file systems\n",
    "for the profiled volumes:\n",
    "* x axis represents the rank duration, scaling from 0 to the maximum duration across all ranks.\n",
    "* y axis represents the mean Bytes read and written across all ranks."
   ]
  },
  {
   "cell_type": "code",
   "execution_count": null,
   "metadata": {},
   "outputs": [],
   "source": [
    "# Load the DataFrame from the parquet file\n",
    "df = pd.read_parquet(\"analysis.parquet\")\n",
    "\n",
    "# Create unique name.\n",
    "df[\"Name\"] = (\n",
    "    df[\"Rank\"].astype(str)\n",
    "    + \"/\"\n",
    "    + df[\"Hostname\"].astype(str)\n",
    "    + \"/\"\n",
    "    + df[\"Volume\"].astype(str)\n",
    "    + \"/\"\n",
    "    + df[\"Name\"].astype(str)\n",
    ")\n",
    "\n",
    "# Convert ns to seconds\n",
    "df[\"Duration\"] = df[\"Duration\"] * 1e-9\n",
    "\n",
    "all_metrics = [\"Read\", \"Write\"]\n",
    "\n",
    "nsys_display.display_summary_graph(\n",
    "    df,\n",
    "    all_metrics,\n",
    "    xaxis_title=\"Duration (s)\",\n",
    "    yaxis_title=\"Value\",\n",
    "    title=\"Usage Summary (bins=REPLACE_BIN)\",\n",
    ")"
   ]
  },
  {
   "cell_type": "markdown",
   "metadata": {},
   "source": [
    "These heatmaps display NFS, Lustre, Local and NVMe-oF filesystem operations which are collected using NVTX counters\n",
    "via the storage-metrics plugin and the --storage-metrics feature\n",
    "* x axis represents the rank duration, scaling from 0 to the maximum duration across all ranks.\n",
    "* y axis represents the set of Rank/Hostname/Volume/Device name for which metrics were collected.\n",
    "\n",
    "The heatmaps present:\n",
    "* Bytes read\n",
    "* Bytes written"
   ]
  },
  {
   "cell_type": "code",
   "execution_count": null,
   "metadata": {},
   "outputs": [],
   "source": [
    "# Create heatmaps for each metric.\n",
    "for operation in all_metrics:\n",
    "    if operation not in df.columns:\n",
    "        print(f\"Data for '{operation}' is not in the DataFrame.\")\n",
    "        continue\n",
    "\n",
    "    fig = make_subplots(\n",
    "        rows=1, cols=1, subplot_titles=[operation], vertical_spacing=0.1\n",
    "    )\n",
    "\n",
    "    # Add the heatmap trace\n",
    "    fig.add_trace(\n",
    "        go.Heatmap(\n",
    "            x=df[\"Duration\"],\n",
    "            y=df[\"Name\"],\n",
    "            z=df[operation],\n",
    "            colorscale=\"Viridis\",\n",
    "            zmax=df[operation].max(),\n",
    "            zmin=df[operation].min(),\n",
    "            colorbar=dict(title=\"Bytes\"),\n",
    "            hovertemplate=(\n",
    "                '<br>'.join([\n",
    "                    'Duration (s): %{{x}}',\n",
    "                    'Source: %{{y}}',\n",
    "                    'Bytes: %{{z}}'])+'<extra></extra>').format(type)),\n",
    "        1,    1)\n",
    "\n",
    "    # Layout update\n",
    "    fig.update_layout(\n",
    "        height=500,\n",
    "        title=f\"Heatmap of {operation}\",\n",
    "        xaxis_title=\"Duration (s)\",\n",
    "        yaxis_title=\"Name\",\n",
    "        xaxis=dict(\n",
    "            title=\"Duration (s)\", titlefont=dict(size=14), tickfont=dict(size=12)\n",
    "        ),\n",
    "        yaxis=dict(\n",
    "            title=\"Rank/Hostname/Volume/Device\",\n",
    "            titlefont=dict(size=14),\n",
    "            tickfont=dict(size=12),\n",
    "            categoryorder=\"category descending\",\n",
    "        )\n",
    "    )\n",
    "\n",
    "    fig.show()"
   ]
  },
  {
   "cell_type": "markdown",
   "metadata": {},
   "source": [
    "# Files"
   ]
  },
  {
   "cell_type": "markdown",
   "metadata": {},
   "source": [
    "The table associates each rank number with the original filename. Ranks are assigned assuming that\n",
    "the file names include the rank with sufficient zero padding for proper sorting. Otherwise, the\n",
    "actual rank may differ from the assigned ID."
   ]
  },
  {
   "cell_type": "code",
   "execution_count": null,
   "metadata": {},
   "outputs": [],
   "source": [
    "files_df = pd.read_parquet(\"files.parquet\")\n",
    "display(files_df)"
   ]
  }
 ],
 "metadata": {
  "kernelspec": {
   "display_name": "Python 3",
   "language": "python",
   "name": "python3"
  },
  "language_info": {
   "codemirror_mode": {
    "name": "ipython",
    "version": 3
   },
   "file_extension": ".py",
   "mimetype": "text/x-python",
   "name": "python",
   "nbconvert_exporter": "python",
   "pygments_lexer": "ipython3",
   "version": "3.10.12"
  }
 },
 "nbformat": 4,
 "nbformat_minor": 2
}
