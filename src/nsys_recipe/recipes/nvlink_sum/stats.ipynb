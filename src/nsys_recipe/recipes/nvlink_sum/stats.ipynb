{
 "cells": [
  {
   "cell_type": "markdown",
   "metadata": {},
   "source": [
    "# NVLink Network Bandwidth Summary"
   ]
  },
  {
   "cell_type": "code",
   "execution_count": null,
   "metadata": {},
   "outputs": [],
   "source": [
    "from IPython.display import display, HTML, Markdown\n",
    "\n",
    "import nsys_display\n",
    "\n",
    "display(HTML(\"<style>.container { width:95% !important; }</style>\"))\n",
    "\n",
    "import pandas as pd\n",
    "pd.options.plotting.backend = \"plotly\"\n",
    "pd.set_option('display.max_rows', 100)\n",
    "pd.set_option('display.width', 1000)\n",
    "\n",
    "import nsys_pres"
   ]
  },
  {
   "cell_type": "code",
   "execution_count": null,
   "metadata": {},
   "outputs": [],
   "source": [
    "files_df = pd.read_parquet(\"files.parquet\")\n",
    "all_stats_df = pd.read_parquet(\"all_stats.parquet\")"
   ]
  },
  {
   "cell_type": "markdown",
   "metadata": {},
   "source": [
    "## Statistics across all GPUs and RX/TX metrics\n",
    "* Table of statistics\n",
    "  * Q1 is the 25th percentile of the dataset.\n",
    "  * Median is the 50th percentile of the dataset.\n",
    "  * Q3 is the 75th percentile of the dataset.\n",
    "* Boxplot of the distribution to support the investigation of outliers\n",
    "* Graph of Q1, Median, & Q3 to see how close together the middle (50%) of the data is without outlier."
   ]
  },
  {
   "cell_type": "code",
   "execution_count": null,
   "metadata": {},
   "outputs": [],
   "source": [
    "display(all_stats_df)\n",
    "fig1=nsys_pres.display_boxplots_df(None, all_stats_df, xaxis_title=\"Metric Names\", yaxis_title=\"Metric Value\")\n",
    "fig2=nsys_pres.display_graph(None, all_stats_df.index, all_stats_df[['Q1', 'Median', 'Q3']], title=\"50% of Distribution\",  xaxis_title=\"Metric Names\", yaxis_title=\"Metric Value\")"
   ]
  },
  {
   "cell_type": "markdown",
   "metadata": {},
   "source": [
    "## Statistics for a particular GPU and metric\n",
    "Please select a GPU and metric to see:\n",
    "* Table of statistics\n",
    "  * Q1 is the 25th percentile of the dataset.\n",
    "  * Median is the 50th percentile of the dataset.\n",
    "  * Q3 is the 75th percentile of the dataset.\n",
    "* Boxplot of the distribution to support the investigation of outliers\n",
    "* Graph of Q1, Median, & Q3 to see how close together the middle (50%) of the data is without outlier."
   ]
  },
  {
   "cell_type": "code",
   "execution_count": null,
   "metadata": {},
   "outputs": [],
   "source": [
    "stats_by_gpu_df = pd.read_parquet(\"stats_by_gpu.parquet\")\n",
    "nsys_display.display_stats_per_operation_device(all_stats_df, stats_by_gpu_df, xaxis_title=\"Rank\")"
   ]
  },
  {
   "cell_type": "markdown",
   "metadata": {},
   "source": [
    "## Files\n",
    "Ranks are assigned assuming that the file names include the rank and sort well.  If they are not\n",
    "sufficiently padded with zeros, the real rank may differ from the assigned ID.  This table allows\n",
    "you to identify the filename without the charts above having potentially very long label in the\n",
    "legend or x-axis."
   ]
  },
  {
   "cell_type": "code",
   "execution_count": null,
   "metadata": {},
   "outputs": [],
   "source": [
    "display(files_df)"
   ]
  }
 ],
 "metadata": {
  "kernelspec": {
   "display_name": "Python 3",
   "language": "python",
   "name": "python3"
  },
  "language_info": {
   "codemirror_mode": {
    "name": "ipython",
    "version": 3
   },
   "file_extension": ".py",
   "mimetype": "text/x-python",
   "name": "python",
   "nbconvert_exporter": "python",
   "pygments_lexer": "ipython3",
   "version": "3.9.5"
  }
 },
 "nbformat": 4,
 "nbformat_minor": 2
}
