{
 "cells": [
  {
   "cell_type": "markdown",
   "metadata": {},
   "source": [
    "# GPU Time Utilization"
   ]
  },
  {
   "cell_type": "markdown",
   "metadata": {},
   "source": [
    "This notebook identifies time regions with low GPU utilization. For each\n",
    "process, each GPU device is examined, and a time range is created that\n",
    "starts with the beginning of the first GPU operation on that device and\n",
    "ends with the end of the last GPU operation on that device. This time range\n",
    "is then divided into equal chunks, and the GPU utilization is calculated\n",
    "for each chunk. The utilization includes all GPU operations as well as\n",
    "profiling overheads that the user cannot address.\n",
    "\n",
    "Note that the utilization refers to the \"time\" utilization and not the\n",
    "\"resource\" utilization. This script does not take into account how many GPU\n",
    "resources are being used. Therefore, a single running memcpy is considered\n",
    "the same amount of \"utilization\" as a huge kernel that takes over all the\n",
    "cores. If multiple operations run concurrently in the same chunk, their\n",
    "utilization will be added up and may exceed 100%.\n",
    "\n",
    "Chunks with an in-use percentage less than the threshold value are\n",
    "displayed. If consecutive chunks have a low in-use percentage, the\n",
    "individual chunks are coalesced into a single display record, keeping the\n",
    "weighted average of percentages. This is why returned chunks may have\n",
    "different durations."
   ]
  },
  {
   "cell_type": "code",
   "execution_count": null,
   "metadata": {},
   "outputs": [],
   "source": [
    "import pandas as pd\n",
    "import plotly.offline as pyo\n",
    "\n",
    "from IPython.display import display, HTML, Markdown\n",
    "\n",
    "import nsys_display\n",
    "\n",
    "display(HTML(\"<style>.container { width:95% !important; }</style>\"))\n",
    "pd.set_option('display.max_colwidth', None)\n",
    "pd.set_option('display.max_rows', None)\n",
    "pyo.init_notebook_mode()"
   ]
  },
  {
   "cell_type": "markdown",
   "metadata": {},
   "source": [
    "The table shows analysis results for each individual rank selected from the drop-down menu.\n",
    "\n",
    "All time values are in nanoseconds."
   ]
  },
  {
   "cell_type": "code",
   "execution_count": null,
   "metadata": {},
   "outputs": [],
   "source": [
    "df = pd.read_parquet('analysis.parquet')\n",
    "nsys_display.display_table_per_rank(df)"
   ]
  },
  {
   "cell_type": "markdown",
   "metadata": {},
   "source": [
    "## Files"
   ]
  },
  {
   "cell_type": "markdown",
   "metadata": {},
   "source": [
    "The table associates each rank number with the original filename. Ranks are assigned assuming that the file names include the rank with sufficient zero padding for proper sorting. Otherwise, the actual rank may differ from the assigned ID."
   ]
  },
  {
   "cell_type": "code",
   "execution_count": null,
   "metadata": {},
   "outputs": [],
   "source": [
    "files_df = pd.read_parquet(\"files.parquet\")\n",
    "display(files_df)"
   ]
  }
 ],
 "metadata": {
  "kernelspec": {
   "display_name": "Python 3",
   "language": "python",
   "name": "python3"
  },
  "language_info": {
   "name": "python",
   "version": "3.10.5"
  },
  "orig_nbformat": 4,
  "vscode": {
   "interpreter": {
    "hash": "7e1998ff7f8aa20ada591c520b972326324e5ea05489af9e422744c7c09f6dad"
   }
  }
 },
 "nbformat": 4,
 "nbformat_minor": 2
}
