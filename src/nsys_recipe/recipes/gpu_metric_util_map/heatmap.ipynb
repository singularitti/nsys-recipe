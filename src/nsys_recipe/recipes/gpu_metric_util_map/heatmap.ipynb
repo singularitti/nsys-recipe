{
 "cells": [
  {
   "cell_type": "markdown",
   "metadata": {},
   "source": [
    "# GPU Metric Utilization Heatmap"
   ]
  },
  {
   "cell_type": "code",
   "execution_count": null,
   "metadata": {},
   "outputs": [],
   "source": [
    "import pandas as pd\n",
    "import plotly.offline as pyo\n",
    "\n",
    "from IPython.display import display, HTML, Markdown\n",
    "from plotly.subplots import make_subplots\n",
    "\n",
    "import nsys_display\n",
    "\n",
    "display(HTML('<style>.container { width:95% !important; }</style>'))\n",
    "pd.set_option('display.max_colwidth', None)\n",
    "pd.set_option('display.max_rows', None)\n",
    "pyo.init_notebook_mode()"
   ]
  },
  {
   "cell_type": "markdown",
   "metadata": {},
   "source": [
    "This line graph displays the summary utilization of SM Active, SM Issue, and Tensor Active metrics.\n",
    "* x axis represents the rank duration, scaling from 0 to the maximum duration across all ranks.\n",
    "* y axis represents the mean utilization value across all ranks."
   ]
  },
  {
   "cell_type": "code",
   "execution_count": null,
   "metadata": {},
   "outputs": [],
   "source": [
    "df = pd.read_parquet('analysis.parquet')\n",
    "# Create unique name.\n",
    "df['Name'] = df['Rank'].astype(str) + '/' + df['GPU'].astype(str)\n",
    "# Convert ns to s.\n",
    "df['Duration'] = df['Duration'] * 1e-9\n",
    "\n",
    "metrics = [\n",
    "    \"SMs Active\",\n",
    "    \"SM Issue\",\n",
    "    \"Tensor Active\"\n",
    "]\n",
    "nsys_display.display_summary_graph(\n",
    "    df,\n",
    "    metrics,\n",
    "    xaxis_title=\"Duration (s)\",\n",
    "    yaxis_title=\"Value (%)\",\n",
    "    title=\"Utilization Summary (bins=REPLACE_BIN)\"\n",
    ")"
   ]
  },
  {
   "cell_type": "markdown",
   "metadata": {},
   "source": [
    "This heatmap displays the utilization of SM Active, SM Issue, and Tensor Active metrics.\n",
    "* x axis represents the rank duration, scaling from 0 to the maximum duration across all ranks.\n",
    "* y axis represents the set of Rank/GPU for which utilization data was collected."
   ]
  },
  {
   "cell_type": "code",
   "execution_count": null,
   "metadata": {},
   "outputs": [],
   "source": [
    "nsys_display.display_heatmaps(\n",
    "    df,\n",
    "    metrics,\n",
    "    xaxis_title=\"Duration (s)\",\n",
    "    yaxis_title=\"Rank/GPU\",\n",
    "    zaxis_title=\"Value (%)\",\n",
    "    title=\"Utilization (bins=REPLACE_BIN)\"\n",
    ")"
   ]
  },
  {
   "cell_type": "markdown",
   "metadata": {},
   "source": [
    "## Files"
   ]
  },
  {
   "cell_type": "markdown",
   "metadata": {},
   "source": [
    "The table associates each rank number with the original filename. Ranks are assigned assuming that the file names include the rank with sufficient zero padding for proper sorting. Otherwise, the actual rank may differ from the assigned ID."
   ]
  },
  {
   "cell_type": "code",
   "execution_count": null,
   "metadata": {},
   "outputs": [],
   "source": [
    "files_df = pd.read_parquet(\"files.parquet\")\n",
    "display(files_df)"
   ]
  }
 ],
 "metadata": {
  "language_info": {
   "name": "python"
  },
  "orig_nbformat": 4
 },
 "nbformat": 4,
 "nbformat_minor": 2
}
