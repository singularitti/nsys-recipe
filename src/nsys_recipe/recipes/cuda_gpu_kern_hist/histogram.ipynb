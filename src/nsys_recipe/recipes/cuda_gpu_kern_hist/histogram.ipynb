{
 "cells": [
  {
   "cell_type": "markdown",
   "metadata": {},
   "source": [
    "# CUDA GPU Kernel Duration Histogram"
   ]
  },
  {
   "cell_type": "code",
   "execution_count": null,
   "metadata": {},
   "outputs": [],
   "source": [
    "import pandas as pd\n",
    "import plotly.offline as pyo\n",
    "\n",
    "from IPython.display import display, HTML, Markdown\n",
    "\n",
    "import nsys_display\n",
    "\n",
    "display(HTML(\"<style>.container { width:95% !important; }</style>\"))\n",
    "pd.set_option('display.max_colwidth', None)\n",
    "pd.set_option('display.max_rows', None)\n",
    "pyo.init_notebook_mode()"
   ]
  },
  {
   "cell_type": "markdown",
   "metadata": {},
   "source": [
    "This histogram represents the distribution of the duration of each CUDA kernel where:\n",
    "* the x axis represents the duration of each bin/range \n",
    "* the y axis represents the frequency of kernels with a specific duration\n",
    "\n",
    "Use the drop-down menu to select a desired kernel or select \"all kernels\" to observe the distribution of durations among all CUDA kernels."
   ]
  },
  {
   "cell_type": "code",
   "execution_count": null,
   "metadata": {},
   "outputs": [],
   "source": [
    "df = pd.read_parquet('analysis.parquet')\n",
    "\n",
    "nsys_display.display_histogram(\n",
    "    df,\n",
    "    'Duration',\n",
    "    'Count',\n",
    "    xaxis_title=\"Duration (ns)\",\n",
    "    yaxis_title=\"Frequency\",\n",
    "    event_type = \"kernels\"\n",
    ")"
   ]
  },
  {
   "cell_type": "markdown",
   "metadata": {},
   "source": [
    "## Files"
   ]
  },
  {
   "cell_type": "markdown",
   "metadata": {},
   "source": [
    "The table associates each rank number with the original filename. Ranks are assigned assuming that the file names include the rank with sufficient zero padding for proper sorting. Otherwise, the actual rank may differ from the assigned ID."
   ]
  },
  {
   "cell_type": "code",
   "execution_count": null,
   "metadata": {},
   "outputs": [],
   "source": [
    "files_df = pd.read_parquet(\"files.parquet\")\n",
    "display(files_df)"
   ]
  }
 ],
 "metadata": {
  "kernelspec": {
   "display_name": "Python 3",
   "language": "python",
   "name": "python3"
  },
  "language_info": {
   "codemirror_mode": {
    "name": "ipython",
    "version": 3
   },
   "file_extension": ".py",
   "mimetype": "text/x-python",
   "name": "python",
   "nbconvert_exporter": "python",
   "pygments_lexer": "ipython3",
   "version": "3.9.5"
  }
 },
 "nbformat": 4,
 "nbformat_minor": 2
}
