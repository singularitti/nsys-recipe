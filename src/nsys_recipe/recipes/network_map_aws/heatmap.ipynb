{
 "cells": [
  {
   "cell_type": "markdown",
   "metadata": {},
   "source": [
    "# AWS EFA Heatmap"
   ]
  },
  {
   "cell_type": "code",
   "execution_count": null,
   "metadata": {},
   "outputs": [],
   "source": [
    "import pandas as pd\n",
    "import plotly.express as px\n",
    "import plotly.graph_objects as go\n",
    "import plotly.offline as pyo\n",
    "\n",
    "from IPython.display import display, HTML, Markdown\n",
    "from plotly.subplots import make_subplots\n",
    "\n",
    "import nsys_display\n",
    "\n",
    "display(HTML('<style>.container { width:95% !important; }</style>'))\n",
    "pd.set_option('display.max_colwidth', None)\n",
    "pd.set_option('display.max_rows', None)\n",
    "pyo.init_notebook_mode()"
   ]
  },
  {
   "cell_type": "markdown",
   "metadata": {},
   "source": [
    "This line graph displays the summary of data read and written rates by all the profiled network devices:\n",
    "* x axis represents the rank duration, scaling from 0 to the maximum duration across all ranks.\n",
    "* y axis represents the mean value of data read and written across all ranks."
   ]
  },
  {
   "cell_type": "code",
   "execution_count": null,
   "metadata": {},
   "outputs": [],
   "source": [
    "# Load the DataFrame from the parquet file\n",
    "df = pd.read_parquet('analysis.parquet')\n",
    "\n",
    "# Create unique name. Will need to change later\n",
    "df['Name'] = df['Rank'].astype(str) + '/' + df['DeviceId'].astype(int).astype(str)\n",
    "\n",
    "# Convert ns to seconds\n",
    "df['Duration'] = df['Duration'] * 1e-9\n",
    "\n",
    "metrics = [\n",
    "    \"rdma_read_bytes per second\",\n",
    "    \"rdma_read_resp_bytes per second\",\n",
    "    \"rdma_write_bytes per second\",\n",
    "    \"rdma_write_recv_bytes per second\"\n",
    "]\n",
    "\n",
    "nsys_display.display_summary_graph(\n",
    "    df,\n",
    "    metrics,\n",
    "    xaxis_title=\"Duration (s)\",\n",
    "    yaxis_title=\"Value\",\n",
    "    title=\"RDMA Metrics Summary (bins=30)\"\n",
    ")"
   ]
  },
  {
   "cell_type": "markdown",
   "metadata": {},
   "source": [
    "These heatmaps display AWS EFA network metrics which are collected using NVTX counters via the efa_metrics plugin \n",
    "* x axis represents the rank duration, scaling from 0 to the maximum duration across all ranks.\n",
    "* y axis represents the set of Rank/Device name for which metrics were collected.\n",
    "\n",
    "The heatmaps present:\n",
    "* rdma_write_recv_bytes per second\n",
    "* rdma_write_bytes per second\n",
    "* rdma_read_bytes per second\n",
    "* rdma_read_resp_bytes per second"
   ]
  },
  {
   "cell_type": "code",
   "execution_count": null,
   "metadata": {},
   "outputs": [],
   "source": [
    "# Create heatmaps for each metric\n",
    "for metric in metrics:\n",
    "    if metric not in df.columns:\n",
    "        print(f\"Metric '{metric}' is not in the DataFrame.\")\n",
    "        continue\n",
    "\n",
    "    fig = make_subplots(\n",
    "        rows=1, cols=1,\n",
    "        subplot_titles=[metric],\n",
    "        vertical_spacing=0.1\n",
    "    )\n",
    "\n",
    "    # Add the heatmap trace\n",
    "    fig.add_trace(\n",
    "        go.Heatmap(\n",
    "            x=df['Duration'],\n",
    "            y=df['Name'],\n",
    "            z=df[metric],\n",
    "            colorscale='Viridis',\n",
    "            zmax=df[metric].max(),\n",
    "            zmin=df[metric].min(),\n",
    "            colorbar=dict(title='Value'),\n",
    "            hovertemplate=(\n",
    "                '<br>'.join([\n",
    "                    'Duration (s): %{{x}}',\n",
    "                    'TypeId: %{{y}}',\n",
    "                    '{} (Value): %{{z}}'])+'<extra></extra>').format(type)),\n",
    "        1,    1)\n",
    "\n",
    "    # Layout update\n",
    "    fig.update_layout(\n",
    "        height=500,\n",
    "        title=f'Heatmap of {metric}',\n",
    "        xaxis_title='Duration (s)',\n",
    "        yaxis_title='Name',\n",
    "        xaxis=dict(\n",
    "            title='Duration (s)',\n",
    "            titlefont=dict(size=14),\n",
    "            tickfont=dict(size=12)\n",
    "        ),\n",
    "        yaxis=dict(\n",
    "            title='Rank/DeviceID',\n",
    "            titlefont=dict(size=14),\n",
    "            tickfont=dict(size=12),\n",
    "            categoryorder=\"category descending\"\n",
    "        )\n",
    "    )\n",
    "\n",
    "    fig.show()"
   ]
  },
  {
   "cell_type": "markdown",
   "metadata": {},
   "source": [
    "# Files"
   ]
  },
  {
   "cell_type": "markdown",
   "metadata": {},
   "source": [
    "The table associates each rank number with the original filename. Ranks are assigned assuming that the file names include the rank with sufficient zero padding for proper sorting. Otherwise, the actual rank may differ from the assigned ID."
   ]
  },
  {
   "cell_type": "code",
   "execution_count": null,
   "metadata": {},
   "outputs": [],
   "source": [
    "files_df = pd.read_parquet(\"files.parquet\")\n",
    "display(files_df)"
   ]
  }
 ],
 "metadata": {
  "kernelspec": {
   "display_name": "Python 3",
   "language": "python",
   "name": "python3"
  },
  "language_info": {
   "codemirror_mode": {
    "name": "ipython",
    "version": 3
   },
   "file_extension": ".py",
   "mimetype": "text/x-python",
   "name": "python",
   "nbconvert_exporter": "python",
   "pygments_lexer": "ipython3",
   "version": "3.10.12"
  }
 },
 "nbformat": 4,
 "nbformat_minor": 2
}
