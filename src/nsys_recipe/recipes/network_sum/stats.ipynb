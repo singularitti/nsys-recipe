{
 "cells": [
  {
   "attachments": {},
   "cell_type": "markdown",
   "id": "4e3c0c43-b1a5-4ade-be51-bb54043441be",
   "metadata": {},
   "source": [
    "# Network metrics Summary\n",
    "Statistical analysis of the metrics from network devices. The devices include ConnectX Network Interface Controllers (NIC) and InfiniBand (IB) Switches.\n",
    "\n",
    "NOTES:\n",
    "* The metrics are system-wide.\n",
    "* Bytes rate metric values are in units of B/ms.\n",
    "* Packets metric values are rates in packets/ms."
   ]
  },
  {
   "cell_type": "markdown",
   "id": "5cbed268-3ac1-4b76-8be9-0c2b060f1c3a",
   "metadata": {},
   "source": [
    "## Loading"
   ]
  },
  {
   "cell_type": "code",
   "execution_count": null,
   "id": "0425e7d7",
   "metadata": {
    "jupyter": {
     "source_hidden": true
    },
    "tags": []
   },
   "outputs": [],
   "source": [
    "from IPython.display import display, HTML, Markdown\n",
    "\n",
    "import nsys_display\n",
    "\n",
    "display(HTML(\"<style>.container { width:95% !important; }</style>\"))\n",
    "\n",
    "import plotly.offline as pyo\n",
    "\n",
    "def is_lab_notebook():\n",
    "        import re\n",
    "        import psutil\n",
    "        return any(re.search('jupyter-lab-script', x) for x in psutil.Process().parent().cmdline())\n",
    "\n",
    "if is_lab_notebook():\n",
    "    pyo.init_notebook_mode()\n",
    "\n",
    "\n",
    "#!pip3 install plotly\n",
    "\n",
    "import pandas as pd\n",
    "pd.options.plotting.backend = \"plotly\"\n",
    "pd.set_option('display.max_rows', 100)\n",
    "pd.set_option('display.width', 1000)\n",
    "\n",
    "import nsys_pres"
   ]
  },
  {
   "cell_type": "code",
   "execution_count": null,
   "id": "83e4c7bc",
   "metadata": {
    "tags": []
   },
   "outputs": [],
   "source": [
    "files_df = pd.read_parquet(\"files.parquet\")\n",
    "all_stats_df = pd.read_parquet(\"all_stats.parquet\")"
   ]
  },
  {
   "attachments": {},
   "cell_type": "markdown",
   "id": "d7a3ac1f",
   "metadata": {},
   "source": [
    "## Statistics for all ranks\n",
    "Overall statistics for the network metrics across all ranks.\n",
    "* Q1(approx) is the 25th percentile of the dataset. Approximated by the min of Q1 for each rank.\n",
    "* Median(approx) is the 50th percentile of the dataset. Approximated by the median of the medians for each rank.\n",
    "* Q3(approx) is the 75th percentile of the dataset. Approximated by the max of Q3 for each rank."
   ]
  },
  {
   "cell_type": "code",
   "execution_count": null,
   "id": "ba5bde92-c6bd-4493-a829-4ae84d797bb3",
   "metadata": {
    "jupyter": {
     "source_hidden": true
    },
    "tags": []
   },
   "outputs": [],
   "source": [
    "display(all_stats_df)\n",
    "fig1=nsys_pres.display_boxplots_df(None, all_stats_df, xaxis_title=\"Metric Names\", yaxis_title=\"Metric Value\")\n",
    "fig2=nsys_pres.display_graph(None, all_stats_df.index, all_stats_df[['Q1 (approx)', 'Median (approx)', 'Q3 (approx)']], title=\"50% of Distribution\",  xaxis_title=\"Metric Names\", yaxis_title=\"Metric Value\")"
   ]
  },
  {
   "attachments": {},
   "cell_type": "markdown",
   "id": "3fc1d09d-99ae-4dcb-9cbd-dc39e4545b4f",
   "metadata": {},
   "source": [
    "## Statistics for all ranks and a particular network device\n",
    "Please select a network device name to see:\n",
    "* Table of per-rank statistics\n",
    "  * Q1 is the 25th percentile of the dataset.\n",
    "  * Median is the 50th percentile of the dataset.\n",
    "  * Q3 is the 75th percentile of the dataset.\n",
    "* Boxplot of the distribution of timing per-rank to support the investigation of outliers\n",
    "* Graph of Q1, Median, & Q3 to see how close together the middle (50%) of the data is without outlier."
   ]
  },
  {
   "cell_type": "code",
   "execution_count": null,
   "id": "7758cd1e-b5a9-4a10-867b-18d5719cbd90",
   "metadata": {
    "jupyter": {
     "source_hidden": true
    },
    "tags": []
   },
   "outputs": [],
   "source": [
    "rank_stats_df = pd.read_parquet(\"rank_stats.parquet\")\n",
    "per_rank_device_gdf = pd.read_parquet('rank_stats_by_device.parquet')\n",
    "\n",
    "nsys_display.display_stats_per_operation_device(rank_stats_df, per_rank_device_gdf, xaxis_title=\"Rank\")"
   ]
  },
  {
   "attachments": {},
   "cell_type": "markdown",
   "id": "910620c7",
   "metadata": {},
   "source": [
    "## Files\n",
    "Ranks are assigned assuming that the file names include the rank and sort well.  If they are not sufficiently padded with zeros, the real rank may differ from the assigned ID.  This table allows you to identify the filename without the charts above having potentially very long label in the legend or x-axis."
   ]
  },
  {
   "cell_type": "code",
   "execution_count": null,
   "id": "c3328573",
   "metadata": {},
   "outputs": [],
   "source": [
    "display(files_df)"
   ]
  }
 ],
 "metadata": {
  "kernelspec": {
   "display_name": "Python 3",
   "language": "python",
   "name": "python3"
  },
  "language_info": {
   "codemirror_mode": {
    "name": "ipython",
    "version": 3
   },
   "file_extension": ".py",
   "mimetype": "text/x-python",
   "name": "python",
   "nbconvert_exporter": "python",
   "pygments_lexer": "ipython3",
   "version": "3.8.10 (default, Nov 14 2022, 12:59:47) \n[GCC 9.4.0]"
  },
  "vscode": {
   "interpreter": {
    "hash": "916dbcbb3f70747c44a77c7bcd40155683ae19c65e1c03b4aa3499c5328201f1"
   }
  }
 },
 "nbformat": 4,
 "nbformat_minor": 5
}
