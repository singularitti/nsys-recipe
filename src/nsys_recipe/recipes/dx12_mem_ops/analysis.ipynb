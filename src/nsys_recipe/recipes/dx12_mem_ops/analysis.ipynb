{
 "cells": [
  {
   "cell_type": "markdown",
   "metadata": {},
   "source": [
    "# DX12 Memory Operations"
   ]
  },
  {
   "cell_type": "markdown",
   "metadata": {},
   "source": [
    "This notebook identifies memory operations with the following warnings:\n",
    "1. HEAP_CREATED_WITH_ZEROING: ID3D12Heap object created with zeroing.\n",
    "    Add D3D12_HEAP_FLAG_CREATE_NOT_ZEROED to pDesc->Flags to avoid overhead\n",
    "    of zeroing.\n",
    "2. COMMITTED_RESOURCE_CREATED_WITH_ZEROING: Committed ID3D12Resource\n",
    "    object created with zeroing.\n",
    "    Add D3D12_HEAP_FLAG_CREATE_NOT_ZEROED to HeapFlags to avoid overhead of\n",
    "    zeroing.\n",
    "3. NONEMPTY_MAP_FROM_UPLOAD_HEAP: Non-empty ID3D12Resource::Map from\n",
    "    upload heap.\n",
    "    Upload heaps are not optimized for reading data back to the CPU.\n",
    "4. NONEMPTY_MAP_TO_WRITE_COMBINE_PAGE: Non-empty ID3D12Resource::Map to\n",
    "    write-combine CPU page.\n",
    "    Write-combine pages are not optimized for reading data back from the\n",
    "    GPU.\n",
    "5. NONEMPTY_UNMAP_TO_READBACK_HEAP: Non-empty ID3D12Resource::Unmap to\n",
    "    readback heap.\n",
    "    Readback heaps are not optimized for uploading data from the CPU.\n",
    "6. NONEMPTY_UNMAP_FROM_WRITE_BACK_PAGE: Non-empty ID3D12Resource::Unmap\n",
    "    from write-back CPU page.\n",
    "    Write-back pages are not optimized for uploading data to the GPU.\n",
    "7. READ_FROM_UPLOAD_HEAP_SUBRESOURCE: ID3D12Resource::ReadFromSubresource\n",
    "    from upload heap.\n",
    "    Upload heaps are not optimized for reading data back to the CPU.\n",
    "8. READ_FROM_SUBRESOURCE_TO_WRITE_COMBINE_PAGE:\n",
    "    ID3D12Resource::ReadFromSubresource to write-combine CPU page.\n",
    "    Write-combine pages are not optimized for reading data back from the\n",
    "    GPU.\n",
    "9. WRITE_TO_READBACK_HEAP_SUBRESOURCE: ID3D12Resource::WriteToSubresource\n",
    "    to readback heap.\n",
    "    Readback heaps are not optimized for uploading data from the CPU.\n",
    "10. WRITE_TO_SUBRESOURCE_FROM_WRITE_BACK_PAGE:\n",
    "    ID3D12Resource::WriteToSubresource from write-back CPU page.\n",
    "    Write-back pages are not optimized for uploading data to the GPU."
   ]
  },
  {
   "cell_type": "code",
   "execution_count": null,
   "metadata": {},
   "outputs": [],
   "source": [
    "import pandas as pd\n",
    "import plotly.offline as pyo\n",
    "\n",
    "from IPython.display import display, HTML, Markdown\n",
    "\n",
    "import nsys_display\n",
    "\n",
    "display(HTML(\"<style>.container { width:95% !important; }</style>\"))\n",
    "pd.set_option('display.max_colwidth', None)\n",
    "pd.set_option('display.max_rows', None)\n",
    "pyo.init_notebook_mode()"
   ]
  },
  {
   "cell_type": "markdown",
   "metadata": {},
   "source": [
    "The table shows analysis results for each individual rank selected from the drop-down menu.\n",
    "\n",
    "All time values are in nanoseconds."
   ]
  },
  {
   "cell_type": "code",
   "execution_count": null,
   "metadata": {},
   "outputs": [],
   "source": [
    "df = pd.read_parquet('analysis.parquet')\n",
    "nsys_display.display_table_per_rank(df)"
   ]
  },
  {
   "cell_type": "markdown",
   "metadata": {},
   "source": [
    "## Files"
   ]
  },
  {
   "cell_type": "markdown",
   "metadata": {},
   "source": [
    "The table associates each rank number with the original filename. Ranks are assigned assuming that the file names include the rank with sufficient zero padding for proper sorting. Otherwise, the actual rank may differ from the assigned ID."
   ]
  },
  {
   "cell_type": "code",
   "execution_count": null,
   "metadata": {},
   "outputs": [],
   "source": [
    "files_df = pd.read_parquet(\"files.parquet\")\n",
    "display(files_df)"
   ]
  }
 ],
 "metadata": {
  "kernelspec": {
   "display_name": "Python 3",
   "language": "python",
   "name": "python3"
  },
  "language_info": {
   "name": "python",
   "version": "3.8.10"
  },
  "orig_nbformat": 4,
  "vscode": {
   "interpreter": {
    "hash": "7e1998ff7f8aa20ada591c520b972326324e5ea05489af9e422744c7c09f6dad"
   }
  }
 },
 "nbformat": 4,
 "nbformat_minor": 2
}
